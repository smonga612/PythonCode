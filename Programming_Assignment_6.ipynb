{
  "nbformat": 4,
  "nbformat_minor": 0,
  "metadata": {
    "colab": {
      "provenance": []
    },
    "kernelspec": {
      "name": "python3",
      "display_name": "Python 3"
    },
    "language_info": {
      "name": "python"
    }
  },
  "cells": [
    {
      "cell_type": "code",
      "execution_count": 13,
      "metadata": {
        "id": "hMPWYvSET0Zv"
      },
      "outputs": [],
      "source": [
        "#Write a Python Program to Display Fibonacci Sequence Using Recursion?"
      ]
    },
    {
      "cell_type": "code",
      "source": [
        "def fibonacci(n):\n",
        "    if n <= 1:\n",
        "        return n\n",
        "    else:\n",
        "        return fibonacci(n-1) + fibonacci(n-2)\n",
        "\n",
        "\n",
        "nterms = int(input(\"How many terms? \"))\n",
        "\n",
        "\n",
        "if nterms <= 0:\n",
        "    print(\"Please enter a positive integer\")\n",
        "else:\n",
        "    print(\"Fibonacci sequence:\")\n",
        "    for i in range(nterms):\n",
        "        print(fibonacci(i))\n"
      ],
      "metadata": {
        "colab": {
          "base_uri": "https://localhost:8080/"
        },
        "id": "F5aAhFSeUOJE",
        "outputId": "88a87118-ef29-439d-a504-cf45481987e5"
      },
      "execution_count": 14,
      "outputs": [
        {
          "output_type": "stream",
          "name": "stdout",
          "text": [
            "How many terms? 5\n",
            "Fibonacci sequence:\n",
            "0\n",
            "1\n",
            "1\n",
            "2\n",
            "3\n"
          ]
        }
      ]
    },
    {
      "cell_type": "code",
      "source": [
        "#Write a Python Program to Find Factorial of Number Using Recursion?"
      ],
      "metadata": {
        "id": "c6yVBAGRUHb0"
      },
      "execution_count": 15,
      "outputs": []
    },
    {
      "cell_type": "code",
      "source": [
        "def factorial(n):\n",
        "    if n == 0:\n",
        "        return 1\n",
        "    else:\n",
        "        return n * factorial(n-1)\n",
        "\n",
        "\n",
        "num = int(input(\"Enter a number: \"))\n",
        "\n",
        "\n",
        "if num < 0:\n",
        "    print(\"Factorial is not defined for negative numbers\")\n",
        "else:\n",
        "    print(f\"Factorial of {num} is {factorial(num)}\")\n"
      ],
      "metadata": {
        "colab": {
          "base_uri": "https://localhost:8080/"
        },
        "id": "ZUwD6lA1UKLO",
        "outputId": "46494f6b-7406-4d54-c26f-696186c7a617"
      },
      "execution_count": 16,
      "outputs": [
        {
          "output_type": "stream",
          "name": "stdout",
          "text": [
            "Enter a number: 9\n",
            "Factorial of 9 is 362880\n"
          ]
        }
      ]
    },
    {
      "cell_type": "code",
      "source": [
        "#Write a Python Program to calculate your Body Mass Index?"
      ],
      "metadata": {
        "id": "0bnqCsrzUUeU"
      },
      "execution_count": 17,
      "outputs": []
    },
    {
      "cell_type": "code",
      "source": [
        "height = float(input(\"Enter your height in meters: \"))\n",
        "weight = float(input(\"Enter your weight in kilograms: \"))\n",
        "\n",
        "\n",
        "bmi = weight / (height ** 2)\n",
        "\n",
        "\n",
        "print(f\"Your BMI is: {bmi:.2f}\")\n",
        "\n",
        "# check BMI category\n",
        "if bmi < 18.5:\n",
        "    print(\"Underweight\")\n",
        "elif bmi >= 18.5 and bmi < 25:\n",
        "    print(\"Normal weight\")\n",
        "elif bmi >= 25 and bmi < 30:\n",
        "    print(\"Overweight\")\n",
        "else:\n",
        "    print(\"Obesity\")\n"
      ],
      "metadata": {
        "colab": {
          "base_uri": "https://localhost:8080/"
        },
        "id": "q-3pjPd8Uf_4",
        "outputId": "1cfee9b4-ef90-4cc7-bdc4-64fbdcf286c7"
      },
      "execution_count": 18,
      "outputs": [
        {
          "output_type": "stream",
          "name": "stdout",
          "text": [
            "Enter your height in meters: 1.74\n",
            "Enter your weight in kilograms: 80\n",
            "Your BMI is: 26.42\n",
            "Overweight\n"
          ]
        }
      ]
    },
    {
      "cell_type": "code",
      "source": [
        "#Write a Python Program to calculate the natural logarithm of any number?"
      ],
      "metadata": {
        "id": "4wCz8MNmUgcT"
      },
      "execution_count": 19,
      "outputs": []
    },
    {
      "cell_type": "code",
      "source": [
        "import math\n",
        "\n",
        "num = float(input(\"Enter a number: \"))\n",
        "\n",
        "\n",
        "ln = math.log(num)\n",
        "\n",
        "\n",
        "print(f\"The natural logarithm of {num} is {ln:.2f}\")\n"
      ],
      "metadata": {
        "colab": {
          "base_uri": "https://localhost:8080/"
        },
        "id": "3SIiuC-FUiZJ",
        "outputId": "fc61cfc5-f777-4a7b-dabf-9a7c9f118e74"
      },
      "execution_count": 20,
      "outputs": [
        {
          "output_type": "stream",
          "name": "stdout",
          "text": [
            "Enter a number: 2\n",
            "The natural logarithm of 2.0 is 0.69\n"
          ]
        }
      ]
    },
    {
      "cell_type": "code",
      "source": [
        "#Write a Python Program for cube sum of first n natural numbers?"
      ],
      "metadata": {
        "id": "_VUD9_gRUi5l"
      },
      "execution_count": 21,
      "outputs": []
    },
    {
      "cell_type": "code",
      "source": [
        "n = int(input(\"Enter the value of n: \"))\n",
        "\n",
        "cube_sum = sum([i**3 for i in range(1, n+1)])\n",
        "\n",
        "print(f\"The cube sum of first {n} natural numbers is {cube_sum}\")\n"
      ],
      "metadata": {
        "colab": {
          "base_uri": "https://localhost:8080/"
        },
        "id": "rchSMkJwXDIn",
        "outputId": "1f2dbf1f-e438-4f9e-98d8-cd4f2f9d65c9"
      },
      "execution_count": 22,
      "outputs": [
        {
          "output_type": "stream",
          "name": "stdout",
          "text": [
            "Enter the value of n: 5\n",
            "The cube sum of first 5 natural numbers is 225\n"
          ]
        }
      ]
    }
  ]
}