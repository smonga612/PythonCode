{
  "nbformat": 4,
  "nbformat_minor": 0,
  "metadata": {
    "colab": {
      "provenance": []
    },
    "kernelspec": {
      "name": "python3",
      "display_name": "Python 3"
    },
    "language_info": {
      "name": "python"
    }
  },
  "cells": [
    {
      "cell_type": "markdown",
      "source": [
        "Write a Python program to convert kilometers to miles"
      ],
      "metadata": {
        "id": "U3o7kjWxPP34"
      }
    },
    {
      "cell_type": "code",
      "execution_count": null,
      "metadata": {
        "colab": {
          "base_uri": "https://localhost:8080/"
        },
        "id": "_LupCaM_PLID",
        "outputId": "4a066c77-bca6-4aff-84b7-ddb4d5018dbe"
      },
      "outputs": [
        {
          "output_type": "stream",
          "name": "stdout",
          "text": [
            "Enter the kilometer10\n",
            "miles:  6.21371\n"
          ]
        }
      ],
      "source": [
        "km=int(input(\"Enter the kilometer\"))\n",
        "miles=km*0.621371\n",
        "print(\"miles: \",miles)"
      ]
    },
    {
      "cell_type": "markdown",
      "source": [
        "Write a Python program to convert Celsius to Fahrenheit?"
      ],
      "metadata": {
        "id": "UnFBnTtWP5r6"
      }
    },
    {
      "cell_type": "code",
      "source": [
        "cel=int(input(\"Enter the temp in cel\"))\n",
        "\n",
        "f=(cel * 9/5) + 32\n",
        "print(cel, \"celsius equivalent in fahrenheit is \",f)"
      ],
      "metadata": {
        "id": "W8D3UrwcQACq",
        "colab": {
          "base_uri": "https://localhost:8080/"
        },
        "outputId": "7ade5934-53b0-4039-872b-dd893aefaad0"
      },
      "execution_count": 3,
      "outputs": [
        {
          "output_type": "stream",
          "name": "stdout",
          "text": [
            "Enter the temp in cel98\n",
            "98 celsius equivalent in fahrenheit is  208.4\n"
          ]
        }
      ]
    },
    {
      "cell_type": "markdown",
      "source": [
        "Write a Python program to display calendar?"
      ],
      "metadata": {
        "id": "fLes-CSUQA_H"
      }
    },
    {
      "cell_type": "code",
      "source": [
        "import calendar as cal\n",
        "yy=int(input(\"Enter the Year\"))\n",
        "mm=int(input(\"Enter the Month\"))\n",
        "\n",
        "print(cal.month(yy,mm))\n"
      ],
      "metadata": {
        "id": "DLeEzLChQLSY",
        "colab": {
          "base_uri": "https://localhost:8080/"
        },
        "outputId": "bfd878f0-b5ca-43cd-90a6-0dd0e297b57a"
      },
      "execution_count": 13,
      "outputs": [
        {
          "output_type": "stream",
          "name": "stdout",
          "text": [
            "Enter the Year2023\n",
            "Enter the Month1\n",
            "    January 2023\n",
            "Mo Tu We Th Fr Sa Su\n",
            "                   1\n",
            " 2  3  4  5  6  7  8\n",
            " 9 10 11 12 13 14 15\n",
            "16 17 18 19 20 21 22\n",
            "23 24 25 26 27 28 29\n",
            "30 31\n",
            "\n"
          ]
        }
      ]
    },
    {
      "cell_type": "markdown",
      "source": [
        "Write a Python program to solve quadratic equation?"
      ],
      "metadata": {
        "id": "akpC4GgoQMAl"
      }
    },
    {
      "cell_type": "code",
      "source": [
        "import cmath\n",
        "\n",
        "a = int(input(\"Enter the value of a\"))\n",
        "b = int(input(\"Enter the value of b\"))\n",
        "c = int(input(\"Enter the value of c\"))\n",
        "\n",
        "d = (b**2) - (4*a*c)\n",
        "\n",
        "root1 = (-b-cmath.sqrt(d))/(2*a)\n",
        "root2 = (-b+cmath.sqrt(d))/(2*a)\n",
        "\n",
        "print('The solution are {0} and {1}'.format(root1,root2))"
      ],
      "metadata": {
        "id": "4saR3nIrQOdp",
        "colab": {
          "base_uri": "https://localhost:8080/"
        },
        "outputId": "ac60dfa9-2bb3-4edc-871d-e2a63ba3806b"
      },
      "execution_count": 19,
      "outputs": [
        {
          "output_type": "stream",
          "name": "stdout",
          "text": [
            "Enter the value of a1\n",
            "Enter the value of b5\n",
            "Enter the value of c6\n",
            "The solution are (-3+0j) and (-2+0j)\n"
          ]
        }
      ]
    },
    {
      "cell_type": "markdown",
      "source": [
        "Write a Python program to swap two variables without temp variable"
      ],
      "metadata": {
        "id": "azuI6C8cQPRg"
      }
    },
    {
      "cell_type": "code",
      "source": [
        "a=int(input(\"Enter the number-1 \"))\n",
        "b=int(input(\"Enter the number-2 \"))\n",
        "temp=a\n",
        "a=b\n",
        "b=temp\n",
        "print(\"a=\",a,\" b= \",b)"
      ],
      "metadata": {
        "colab": {
          "base_uri": "https://localhost:8080/"
        },
        "id": "-lE6yNzP10_1",
        "outputId": "f7d39972-57f0-4ac5-fa9b-5ce15809f2eb"
      },
      "execution_count": 15,
      "outputs": [
        {
          "output_type": "stream",
          "name": "stdout",
          "text": [
            "Enter the number-1 12\n",
            "Enter the number-2 32\n",
            "a= 32  b=  12\n"
          ]
        }
      ]
    }
  ]
}