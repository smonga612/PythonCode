{
  "nbformat": 4,
  "nbformat_minor": 0,
  "metadata": {
    "colab": {
      "provenance": []
    },
    "kernelspec": {
      "name": "python3",
      "display_name": "Python 3"
    },
    "language_info": {
      "name": "python"
    }
  },
  "cells": [
    {
      "cell_type": "markdown",
      "source": [
        "Write a Python Program to Find the Factorial of a Number?\n",
        "2. "
      ],
      "metadata": {
        "id": "neYn2U9Gk08S"
      }
    },
    {
      "cell_type": "code",
      "execution_count": 5,
      "metadata": {
        "colab": {
          "base_uri": "https://localhost:8080/"
        },
        "id": "Ij-b8qSrkvOF",
        "outputId": "0d5035d3-badf-4844-a46d-d1f39a28e6ed"
      },
      "outputs": [
        {
          "output_type": "stream",
          "name": "stdout",
          "text": [
            "120\n"
          ]
        }
      ],
      "source": [
        "def fact(n):\n",
        "  i=1\n",
        "  f=1\n",
        "  while i <=n :\n",
        "    f=f*i\n",
        "    i=i+1\n",
        "  return(f)\n",
        "\n",
        "print(fact(5))\n"
      ]
    },
    {
      "cell_type": "markdown",
      "source": [
        "Write a Python Program to Display the multiplication Table?\n"
      ],
      "metadata": {
        "id": "U3o5FVW3k7_5"
      }
    },
    {
      "cell_type": "code",
      "source": [
        "def mul(n):\n",
        "  i=1\n",
        "  f=1\n",
        "  while i <=10 :\n",
        "    print(n,\"*\",i,\"=\",n*i)\n",
        "    i=i+1\n",
        "  \n",
        "\n",
        "mul(5)\n"
      ],
      "metadata": {
        "colab": {
          "base_uri": "https://localhost:8080/"
        },
        "id": "Sn-4VJwPlGn6",
        "outputId": "e84d5307-e9c6-49cb-c4ef-b4ac903c49ea"
      },
      "execution_count": 7,
      "outputs": [
        {
          "output_type": "stream",
          "name": "stdout",
          "text": [
            "5 * 1 = 5\n",
            "5 * 2 = 10\n",
            "5 * 3 = 15\n",
            "5 * 4 = 20\n",
            "5 * 5 = 25\n",
            "5 * 6 = 30\n",
            "5 * 7 = 35\n",
            "5 * 8 = 40\n",
            "5 * 9 = 45\n",
            "5 * 10 = 50\n"
          ]
        }
      ]
    },
    {
      "cell_type": "markdown",
      "source": [
        "Write a Python Program to Print the Fibonacci sequence?\n"
      ],
      "metadata": {
        "id": "bPbIYmlolHUr"
      }
    },
    {
      "cell_type": "code",
      "source": [
        "def fib(n):\n",
        "  a=1\n",
        "  b=0\n",
        "  i=1\n",
        "  while i <=n :\n",
        "    c=a+b\n",
        "    print(c)\n",
        "    a=b\n",
        "    b=c\n",
        "    i=i+1\n",
        "\n",
        "fib(10)"
      ],
      "metadata": {
        "colab": {
          "base_uri": "https://localhost:8080/"
        },
        "id": "6xLadhiPlKvN",
        "outputId": "deca55b7-a6c8-44b4-9f9c-c3b17639df9c"
      },
      "execution_count": 8,
      "outputs": [
        {
          "output_type": "stream",
          "name": "stdout",
          "text": [
            "1\n",
            "1\n",
            "2\n",
            "3\n",
            "5\n",
            "8\n",
            "13\n",
            "21\n",
            "34\n",
            "55\n"
          ]
        }
      ]
    },
    {
      "cell_type": "markdown",
      "source": [
        "4. Write a Python Program to Check Armstrong Number?\n"
      ],
      "metadata": {
        "id": "0ZtJdtg4lLYi"
      }
    },
    {
      "cell_type": "code",
      "source": [
        "def checkarm(n):\n",
        "  s=n\n",
        "  sum=0\n",
        "  i=0\n",
        "  while s>0:\n",
        "    i = s % 10\n",
        "    sum=sum+i*i*i\n",
        "    s=int(s/10)\n",
        "  if sum == n:\n",
        "    print(\"Number is Armstrong\")\n",
        "  else:\n",
        "    print(\"Number is not Armstrong\")\n",
        "\n",
        "checkarm(253)"
      ],
      "metadata": {
        "colab": {
          "base_uri": "https://localhost:8080/"
        },
        "id": "ooCXKfBHlOvS",
        "outputId": "01485959-096e-411f-b266-3743c1ac6cec"
      },
      "execution_count": 23,
      "outputs": [
        {
          "output_type": "stream",
          "name": "stdout",
          "text": [
            "Number is not Armstrong\n"
          ]
        }
      ]
    },
    {
      "cell_type": "markdown",
      "source": [
        "Write a Python Program to Find Armstrong Number in an Interval?\n",
        "6."
      ],
      "metadata": {
        "id": "d6AgNL_SlPcA"
      }
    },
    {
      "cell_type": "code",
      "source": [
        "def printarm(r1,r2):\n",
        "  j=r1\n",
        "  while j < r2:\n",
        "\n",
        "    s=j\n",
        "    sum=0\n",
        "    i=0\n",
        "    while s>0:\n",
        "        i = s % 10\n",
        "        sum=sum+i*i*i\n",
        "        s=int(s/10)\n",
        "    if sum == j:\n",
        "     print(j)\n",
        "    j=j+1\n",
        "  \n",
        "printarm(1,1000)"
      ],
      "metadata": {
        "colab": {
          "base_uri": "https://localhost:8080/"
        },
        "id": "W01Ei9l6lUpY",
        "outputId": "2f6244ee-5e64-45ed-d230-171a98645198"
      },
      "execution_count": 27,
      "outputs": [
        {
          "output_type": "stream",
          "name": "stdout",
          "text": [
            "1\n",
            "153\n",
            "370\n",
            "371\n",
            "407\n"
          ]
        }
      ]
    },
    {
      "cell_type": "markdown",
      "source": [
        " Write a Python Program to Find the Sum of Natural Numbers?"
      ],
      "metadata": {
        "id": "v_tecw5mlVa5"
      }
    },
    {
      "cell_type": "code",
      "source": [
        "def nsum(n):\n",
        "  i=1\n",
        "  s=0\n",
        "  while i <=n :\n",
        "    s=s+i\n",
        "    i=i+1\n",
        "  return(s)\n",
        "\n",
        "print(nsum(9))\n"
      ],
      "metadata": {
        "colab": {
          "base_uri": "https://localhost:8080/"
        },
        "id": "DX4_9oNWqng1",
        "outputId": "7c477b3b-fca1-40cb-d9b1-ab21073fea22"
      },
      "execution_count": 30,
      "outputs": [
        {
          "output_type": "stream",
          "name": "stdout",
          "text": [
            "45\n"
          ]
        }
      ]
    }
  ]
}