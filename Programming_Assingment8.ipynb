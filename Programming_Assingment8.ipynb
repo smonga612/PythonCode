{
  "nbformat": 4,
  "nbformat_minor": 0,
  "metadata": {
    "colab": {
      "provenance": []
    },
    "kernelspec": {
      "name": "python3",
      "display_name": "Python 3"
    },
    "language_info": {
      "name": "python"
    }
  },
  "cells": [
    {
      "cell_type": "markdown",
      "source": [
        "Write a Python Program to Add Two Matrices?"
      ],
      "metadata": {
        "id": "4rVmOne-kgAh"
      }
    },
    {
      "cell_type": "code",
      "source": [
        "def add_matrices(matrix1, matrix2):\n",
        "    rows = len(matrix1)\n",
        "    columns = len(matrix1[0])\n",
        "    result = [[0 for _ in range(columns)] for _ in range(rows)]\n",
        "\n",
        "\n",
        "    for i in range(rows):\n",
        "        for j in range(columns):\n",
        "            result[i][j] = matrix1[i][j] + matrix2[i][j]\n",
        "\n",
        "    return result\n",
        "\n",
        "\n",
        "matrix1 = [[1, 2, 3], [4, 5, 6], [7, 8, 9]]\n",
        "matrix2 = [[9, 8, 7], [6, 5, 4], [3, 2, 1]]\n",
        "\n",
        "result = add_matrices(matrix1, matrix2)\n",
        "for row in result:\n",
        "    print(row)\n"
      ],
      "metadata": {
        "id": "a_9aOS2kuqGu",
        "colab": {
          "base_uri": "https://localhost:8080/"
        },
        "outputId": "2739fee9-7ffb-4564-be0f-005f46b184c4"
      },
      "execution_count": 3,
      "outputs": [
        {
          "output_type": "stream",
          "name": "stdout",
          "text": [
            "[[0, 0, 0], [0, 0, 0], [0, 0, 0]]\n",
            "[10, 10, 10]\n",
            "[10, 10, 10]\n",
            "[10, 10, 10]\n"
          ]
        }
      ]
    },
    {
      "cell_type": "markdown",
      "source": [
        "Write a Python Program to Multiply Two Matrices?"
      ],
      "metadata": {
        "id": "Ezz4pT1Bk3Ia"
      }
    },
    {
      "cell_type": "code",
      "source": [
        "def multiply_matrices(matrix1, matrix2):\n",
        "    rows1 = len(matrix1)\n",
        "    columns1 = len(matrix1[0])\n",
        "    rows2 = len(matrix2)\n",
        "    columns2 = len(matrix2[0])\n",
        "\n",
        "    if columns1 != rows2:\n",
        "        print(\"Error: Number of columns in the first matrix must match the number of rows in the second matrix.\")\n",
        "        return None\n",
        "\n",
        "    result = [[0 for _ in range(columns2)] for _ in range(rows1)]\n",
        "\n",
        "    for i in range(rows1):\n",
        "        for j in range(columns2):\n",
        "            for k in range(columns1):\n",
        "                result[i][j] += matrix1[i][k] * matrix2[k][j]\n",
        "\n",
        "    return result\n",
        "\n",
        "\n",
        "\n",
        "matrix1 = [[1, 2], [5, 6]]\n",
        "matrix2 = [[7, 8], [10, 12]]\n",
        "\n",
        "result = multiply_matrices(matrix1, matrix2)\n",
        "\n",
        "if result is not None:\n",
        "    print(\"The product of the matrices is:\")\n",
        "    for row in result:\n",
        "        print(row)\n"
      ],
      "metadata": {
        "id": "q-riPTlNut3D",
        "colab": {
          "base_uri": "https://localhost:8080/"
        },
        "outputId": "8ce6e583-92aa-4227-85fe-56f9a1557e8b"
      },
      "execution_count": 6,
      "outputs": [
        {
          "output_type": "stream",
          "name": "stdout",
          "text": [
            "The product of the matrices is:\n",
            "[27, 32]\n",
            "[95, 112]\n"
          ]
        }
      ]
    },
    {
      "cell_type": "markdown",
      "source": [
        "Write a Python Program to Transpose a Matrix?"
      ],
      "metadata": {
        "id": "BsvJQTLDly-E"
      }
    },
    {
      "cell_type": "code",
      "source": [
        "def transpose_matrix(matrix):\n",
        "    rows = len(matrix)\n",
        "    columns = len(matrix[0])\n",
        "\n",
        "    transposed_matrix = [[0 for _ in range(rows)] for _ in range(columns)]\n",
        "\n",
        "    for i in range(rows):\n",
        "        for j in range(columns):\n",
        "            transposed_matrix[j][i] = matrix[i][j]\n",
        "\n",
        "    return transposed_matrix\n",
        "\n",
        "\n",
        "\n",
        "matrix = [[1, 2, 3], [4, 5, 6], [7, 8, 9]]\n",
        "\n",
        "transposed = transpose_matrix(matrix)\n",
        "\n",
        "print(\"Original matrix:\")\n",
        "for row in matrix:\n",
        "    print(row)\n",
        "\n",
        "print(\"\\nTransposed matrix:\")\n",
        "for row in transposed:\n",
        "    print(row)\n"
      ],
      "metadata": {
        "id": "v8-bIkl8uzEY",
        "colab": {
          "base_uri": "https://localhost:8080/"
        },
        "outputId": "8a1e7a8c-3a07-4d8a-babc-3506613599db"
      },
      "execution_count": 7,
      "outputs": [
        {
          "output_type": "stream",
          "name": "stdout",
          "text": [
            "Original matrix:\n",
            "[1, 2, 3]\n",
            "[4, 5, 6]\n",
            "[7, 8, 9]\n",
            "\n",
            "Transposed matrix:\n",
            "[1, 4, 7]\n",
            "[2, 5, 8]\n",
            "[3, 6, 9]\n"
          ]
        }
      ]
    },
    {
      "cell_type": "markdown",
      "source": [
        "Write a Python Program to Sort Words in Alphabetic Order?"
      ],
      "metadata": {
        "id": "zX9_YQ-MmIS4"
      }
    },
    {
      "cell_type": "code",
      "source": [
        "def sort_words(words):\n",
        "    sorted_words = sorted(words)\n",
        "    return sorted_words\n",
        "\n",
        "\n",
        "# Example usage\n",
        "word_list = input(\"Enter a list of words: \").split()\n",
        "\n",
        "sorted_words = sort_words(word_list)\n",
        "\n",
        "print(\"Sorted words:\")\n",
        "for word in sorted_words:\n",
        "    print(word)\n"
      ],
      "metadata": {
        "id": "gJTUy9OKu0fe",
        "colab": {
          "base_uri": "https://localhost:8080/"
        },
        "outputId": "fd0655fd-b4dc-45b9-84b2-1d57290c2189"
      },
      "execution_count": 9,
      "outputs": [
        {
          "output_type": "stream",
          "name": "stdout",
          "text": [
            "Enter a list of words: Ram Vikas Arun Sanjay Mohit\n",
            "Sorted words:\n",
            "Arun\n",
            "Mohit\n",
            "Ram\n",
            "Sanjay\n",
            "Vikas\n"
          ]
        }
      ]
    },
    {
      "cell_type": "markdown",
      "source": [
        "Write a Python Program to Remove Punctuation From a String?"
      ],
      "metadata": {
        "id": "-_P6W_Q7m2QU"
      }
    },
    {
      "cell_type": "code",
      "source": [
        "import string\n",
        "\n",
        "def remove_punctuation(text):\n",
        "    # Create a translation table with punctuation characters mapped to None\n",
        "    translator = str.maketrans(\"\", \"\", string.punctuation)\n",
        "    # Remove punctuation using the translation table\n",
        "    text_without_punctuation = text.translate(translator)\n",
        "    return text_without_punctuation\n",
        "\n",
        "\n",
        "text = input(\"Enter a string: \")\n",
        "\n",
        "text_without_punctuation = remove_punctuation(text)\n",
        "\n",
        "print(\"String without punctuation:\", text_without_punctuation)\n"
      ],
      "metadata": {
        "colab": {
          "base_uri": "https://localhost:8080/"
        },
        "id": "En9tvmOdm6-x",
        "outputId": "deef8cd7-74b4-42bb-9646-3388d3b73ed8"
      },
      "execution_count": 11,
      "outputs": [
        {
          "output_type": "stream",
          "name": "stdout",
          "text": [
            "Enter a string: test, the question \"without\" marks.\n",
            "String without punctuation: test the question without marks\n"
          ]
        }
      ]
    }
  ]
}