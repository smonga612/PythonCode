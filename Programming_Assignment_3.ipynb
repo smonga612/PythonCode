{
  "nbformat": 4,
  "nbformat_minor": 0,
  "metadata": {
    "colab": {
      "provenance": []
    },
    "kernelspec": {
      "name": "python3",
      "display_name": "Python 3"
    },
    "language_info": {
      "name": "python"
    }
  },
  "cells": [
    {
      "cell_type": "markdown",
      "source": [
        "Write a Python Program to Check if a Number is Positive, Negative or Zero?"
      ],
      "metadata": {
        "id": "JzC1DIHp6vsa"
      }
    },
    {
      "cell_type": "code",
      "execution_count": 5,
      "metadata": {
        "id": "mAA426TC6lXR",
        "colab": {
          "base_uri": "https://localhost:8080/"
        },
        "outputId": "ea999067-f002-49b7-ded6-f51e7b2079f7"
      },
      "outputs": [
        {
          "output_type": "stream",
          "name": "stdout",
          "text": [
            "Enter the number0\n",
            "Number is zero\n"
          ]
        }
      ],
      "source": [
        "a=int(input(\"Enter the number\"))\n",
        "if a> 0 :\n",
        "  print(\"Number is positive\")\n",
        "elif a < 0 :\n",
        "  print(\"Number is negative\")\n",
        "else:\n",
        "  print(\"Number is zero\")"
      ]
    },
    {
      "cell_type": "markdown",
      "source": [
        "Write a Python Program to Check if a Number is Odd or Even?\n"
      ],
      "metadata": {
        "id": "Z0UiQ-7k6tMo"
      }
    },
    {
      "cell_type": "code",
      "source": [
        "a=int(input(\"Enter the number\"))\n",
        "if a% 2 ==0 :\n",
        "  print(\"NUmber is Even\")\n",
        "else :\n",
        "  print(\"Number is odd\")"
      ],
      "metadata": {
        "colab": {
          "base_uri": "https://localhost:8080/"
        },
        "id": "iECUA3SC2whI",
        "outputId": "d10af285-b529-4362-c5d7-3cae40a181c5"
      },
      "execution_count": 7,
      "outputs": [
        {
          "output_type": "stream",
          "name": "stdout",
          "text": [
            "Enter the number13\n",
            "Number is odd\n"
          ]
        }
      ]
    },
    {
      "cell_type": "markdown",
      "source": [
        "Write a Python Program to Check Leap Year? \n"
      ],
      "metadata": {
        "id": "LdGyYG4m7Pnx"
      }
    },
    {
      "cell_type": "code",
      "source": [
        "a=int(input(\"Enter the Year\"))\n",
        "if a%4 ==0:\n",
        "  print(a,\" is leap year\")\n",
        "else :\n",
        "  print(a,\" is not leap year\")\n"
      ],
      "metadata": {
        "colab": {
          "base_uri": "https://localhost:8080/"
        },
        "id": "tnXFyvlW22S_",
        "outputId": "f382bd9c-55c0-4621-b3f4-4416aa93a866"
      },
      "execution_count": 24,
      "outputs": [
        {
          "output_type": "stream",
          "name": "stdout",
          "text": [
            "Enter the Year23\n",
            "23  is not leap year\n"
          ]
        }
      ]
    },
    {
      "cell_type": "markdown",
      "source": [
        "Write a Python Program to Check Prime Number?\n"
      ],
      "metadata": {
        "id": "8x4dYMkU222f"
      }
    },
    {
      "cell_type": "code",
      "source": [
        "a=int(input(\"Enter the number\"))\n",
        "i =2\n",
        "while i <= a/2 :\n",
        "  if a%i == 0:\n",
        "    break\n",
        "  i=i+1\n",
        "\n",
        "if i > a/2 :\n",
        "  print(a,\"Prime Number\")\n",
        "else :\n",
        "  print(a,\"Not prime number\")\n"
      ],
      "metadata": {
        "id": "Nv_JpwzX29oA"
      },
      "execution_count": null,
      "outputs": []
    },
    {
      "cell_type": "markdown",
      "source": [
        "Write a Python Program to Print all Prime Numbers in an Interval of 1-10000?"
      ],
      "metadata": {
        "id": "wZxNJE3f2_4X"
      }
    },
    {
      "cell_type": "code",
      "source": [
        "a=1\n",
        "while a < 10000:\n",
        "  i =2\n",
        "  while i <= a/2 :\n",
        "    if a%i == 0:\n",
        "      break\n",
        "    i=i+1\n",
        "\n",
        "  if i > a/2 :\n",
        "    print(a)\n",
        "  a=a+1"
      ],
      "metadata": {
        "id": "lj0RHpiG3DHf"
      },
      "execution_count": null,
      "outputs": []
    }
  ]
}