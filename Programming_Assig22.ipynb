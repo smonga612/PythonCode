{
  "nbformat": 4,
  "nbformat_minor": 0,
  "metadata": {
    "colab": {
      "provenance": []
    },
    "kernelspec": {
      "name": "python3",
      "display_name": "Python 3"
    },
    "language_info": {
      "name": "python"
    }
  },
  "cells": [
    {
      "cell_type": "markdown",
      "source": [
        "Create a function that takes three parameters where:\n",
        " x is the start of the range (inclusive).\n",
        " y is the end of the range (inclusive).\n",
        " n is the divisor to be checked against.\n",
        "Return an ordered list with numbers in the range that are divisible by the third parameter n.\n",
        "Return an empty list if there are no numbers that are divisible by n."
      ],
      "metadata": {
        "id": "hO-wb1jAWoDQ"
      }
    },
    {
      "cell_type": "code",
      "execution_count": 35,
      "metadata": {
        "colab": {
          "base_uri": "https://localhost:8080/"
        },
        "id": "MzovhWJ_v9Ix",
        "outputId": "6d489ae1-b3bd-46ca-d15e-0afe54065f7e"
      },
      "outputs": [
        {
          "output_type": "stream",
          "name": "stdout",
          "text": [
            "[5, 10]\n"
          ]
        }
      ],
      "source": [
        "def list_operation(x, y, n):\n",
        "    divisible_numbers = []\n",
        "    for num in range(x, y + 1):\n",
        "        if num % n == 0:\n",
        "            divisible_numbers.append(num)\n",
        "    return divisible_numbers\n",
        "print(list_operation(1,10,5))"
      ]
    },
    {
      "cell_type": "markdown",
      "source": [
        "Create a function that takes in two lists and returns True if the second list follows the first list\n",
        "by one element, and False otherwise. In other words, determine if the second list is the first\n",
        "list shifted to the right by 1.\n",
        "Note:\n",
        "Both input lists will be of the same length, and will have a minimum length of 2.\n",
        " The values of the 0-indexed element in the second list and the n-1th indexed element\n",
        "in the first list do not matter."
      ],
      "metadata": {
        "id": "Ax6xHELQWunH"
      }
    },
    {
      "cell_type": "markdown",
      "source": [],
      "metadata": {
        "id": "7-zwRujEWujx"
      }
    },
    {
      "cell_type": "code",
      "source": [
        "def simon_says(first_list, second_list):\n",
        "    if first_list[:-1] == second_list[1:]:\n",
        "        return True\n",
        "    else:\n",
        "        return False\n",
        "print(simon_says([1, 2, 3, 4, 5], [0, 1, 2, 3, 4]))"
      ],
      "metadata": {
        "colab": {
          "base_uri": "https://localhost:8080/"
        },
        "id": "cIg--bHWwTNW",
        "outputId": "9c1971fa-c196-4539-ce8d-af28945d8cd8"
      },
      "execution_count": 36,
      "outputs": [
        {
          "output_type": "stream",
          "name": "stdout",
          "text": [
            "True\n"
          ]
        }
      ]
    },
    {
      "cell_type": "markdown",
      "source": [
        "A group of friends have decided to start a secret society. The name will be the first letter of\n",
        "each of their names, sorted in alphabetical order.\n",
        "Create a function that takes in a list of names and returns the name of the secret society."
      ],
      "metadata": {
        "id": "kmMMiwZFXIK8"
      }
    },
    {
      "cell_type": "code",
      "source": [
        "def society_name(names):\n",
        "    society_name = ''.join(sorted([name[0] for name in names]))\n",
        "    return society_name\n",
        "society_name([\"Harry\", \"Newt\", \"Luna\",\"Cho\"])"
      ],
      "metadata": {
        "colab": {
          "base_uri": "https://localhost:8080/",
          "height": 36
        },
        "id": "af3WlQ64S1Oe",
        "outputId": "9b7a087f-0ae6-4781-9540-be7e4a18a0de"
      },
      "execution_count": 37,
      "outputs": [
        {
          "output_type": "execute_result",
          "data": {
            "text/plain": [
              "'CHLN'"
            ],
            "application/vnd.google.colaboratory.intrinsic+json": {
              "type": "string"
            }
          },
          "metadata": {},
          "execution_count": 37
        }
      ]
    },
    {
      "cell_type": "markdown",
      "source": [
        "An isogram is a word that has no duplicate letters. Create a function that takes a string and\n",
        "returns either True or False depending on whether or not it's an \"isogram\""
      ],
      "metadata": {
        "id": "AXPkiaefXg05"
      }
    },
    {
      "cell_type": "code",
      "source": [
        "def is_isogram(word):\n",
        "    seen_letters = set()\n",
        "    for letter in word:\n",
        "        if letter.lower() in seen_letters:\n",
        "            return False\n",
        "        seen_letters.add(letter.lower())\n",
        "    return True\n",
        "is_isogram(\"Sap\")"
      ],
      "metadata": {
        "colab": {
          "base_uri": "https://localhost:8080/"
        },
        "id": "HzEae0oQU4Ea",
        "outputId": "5dd7567b-51d0-4cda-9f07-ae8d2e066b46"
      },
      "execution_count": 38,
      "outputs": [
        {
          "output_type": "execute_result",
          "data": {
            "text/plain": [
              "True"
            ]
          },
          "metadata": {},
          "execution_count": 38
        }
      ]
    },
    {
      "cell_type": "markdown",
      "source": [
        "Create a function that takes a string and returns True or False, depending on whether the characters are in order or not."
      ],
      "metadata": {
        "id": "i6B5B93vXw1f"
      }
    },
    {
      "cell_type": "code",
      "source": [
        "def is_in_order(word):\n",
        "    return word == ''.join(sorted(word))\n",
        "is_in_order(\"145\")"
      ],
      "metadata": {
        "colab": {
          "base_uri": "https://localhost:8080/"
        },
        "id": "tXHgDUB1VrCJ",
        "outputId": "32c3e49c-6662-4e65-bd17-6d6bd9cc1982"
      },
      "execution_count": 39,
      "outputs": [
        {
          "output_type": "execute_result",
          "data": {
            "text/plain": [
              "True"
            ]
          },
          "metadata": {},
          "execution_count": 39
        }
      ]
    }
  ]
}