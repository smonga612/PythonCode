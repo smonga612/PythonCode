{
  "cells": [
    {
      "cell_type": "markdown",
      "metadata": {
        "id": "kZaYxnM00FFR"
      },
      "source": [
        "Write a Python Program to Find LCM?"
      ]
    },
    {
      "cell_type": "code",
      "execution_count": null,
      "metadata": {
        "colab": {
          "base_uri": "https://localhost:8080/"
        },
        "id": "4CU-KBIzmgWV",
        "outputId": "c2d5e41e-f404-41f1-a221-4c5adc44d8a8"
      },
      "outputs": [
        {
          "name": "stdout",
          "output_type": "stream",
          "text": [
            "Lcm is  16\n"
          ]
        }
      ],
      "source": [
        "def lcm(a,b,c,d):\n",
        "  i=2\n",
        "  l=1\n",
        "  while a != 1 or b!=1 or c!=1 or d!=1:\n",
        "    flag=0\n",
        "    if a%i == 0:\n",
        "      a=int(a/i)\n",
        "      flag=1\n",
        "      \n",
        "    if b%i == 0:\n",
        "      b=int(b/i)\n",
        "      flag=1\n",
        "      \n",
        "    if c%i == 0 :\n",
        "      c=int(c/i)\n",
        "      flag=1\n",
        "\n",
        "    if d%i == 0 :\n",
        "      d=int(d/i)\n",
        "      flag=1\n",
        "\n",
        "    if flag==1:\n",
        "      l=l*i\n",
        "    if flag==0:\n",
        "      i=i+1\n",
        "  return(l)\n",
        "print(\"Lcm is \",lcm(1,4,8,16))\n",
        "  \n"
      ]
    },
    {
      "cell_type": "markdown",
      "metadata": {
        "id": "yAKVBhr00KNt"
      },
      "source": [
        "Write a Python Program to Find HCF?"
      ]
    },
    {
      "cell_type": "code",
      "execution_count": null,
      "metadata": {
        "colab": {
          "base_uri": "https://localhost:8080/"
        },
        "id": "8q7NpBHc0PQo",
        "outputId": "7c8661cc-e162-4135-a51a-de25ea0b6443"
      },
      "outputs": [
        {
          "name": "stdout",
          "output_type": "stream",
          "text": [
            "HCF:  32\n"
          ]
        }
      ],
      "source": [
        "def hcf(a,b):\n",
        "  i=2\n",
        "  h=1\n",
        "  n1=a\n",
        "  n2=b\n",
        "  while (n1/2)>=i and (n2/2)>=i:\n",
        "    flag=0\n",
        "    if a%i ==0:\n",
        "      a=int(a/i)\n",
        "     # print(\"A\",a)\n",
        "      flag=flag+1\n",
        "    \n",
        "    if b%i==0:\n",
        "      b=int(b/i)\n",
        "      #print(\"B\",b)\n",
        "      flag=flag+2\n",
        "    if flag ==3:\n",
        "      h=h*i\n",
        "      #print(\"H\",h)\n",
        "    if flag==1:\n",
        "      a=int(a*i)\n",
        "      i=i+1\n",
        "    if flag ==2 :\n",
        "      b=int(b*i)\n",
        "      i=i+1\n",
        "    if flag == 0:\n",
        "      i=i+1\n",
        "  \n",
        "  return(h)\n",
        "print(\"HCF: \",hcf(128,160))"
      ]
    },
    {
      "cell_type": "markdown",
      "metadata": {
        "id": "PyoGrCsp0SX0"
      },
      "source": [
        "Write a Python Program to Convert Decimal to Binary, Octal and Hexadecimal?"
      ]
    },
    {
      "cell_type": "code",
      "execution_count": 22,
      "metadata": {
        "colab": {
          "base_uri": "https://localhost:8080/"
        },
        "id": "zz_hixbz0TyW",
        "outputId": "8a6a8726-5fa0-4fd1-8caa-a161f19c39de"
      },
      "outputs": [
        {
          "output_type": "stream",
          "name": "stdout",
          "text": [
            "3E8\n"
          ]
        }
      ],
      "source": [
        "\n",
        "def dec_bin(a):\n",
        "     bin=\"\"\n",
        "     while a > 0:\n",
        "       bin=bin+str(a%2)\n",
        "       a=int(a/2)\n",
        "     return(bin[::-1])\n",
        "\n",
        "def dec_oct(a):\n",
        "     oct=\"\"\n",
        "     while a > 0:\n",
        "       oct=oct+str(a%8)\n",
        "       a=int(a/8)\n",
        "     return(oct[::-1])\n",
        "\n",
        "def dec_hex(a):\n",
        "     hex=\"\"\n",
        "     while a > 0:\n",
        "      rem=a%16\n",
        "      if rem==10:\n",
        "         c=\"A\"\n",
        "      elif rem==11:\n",
        "        c=\"B\"\n",
        "      elif rem==12:\n",
        "          c=\"C\"\n",
        "      elif rem==13:\n",
        "         c=\"D\"\n",
        "      elif rem==14:\n",
        "         c=\"E\"\n",
        "      elif rem==15:\n",
        "         c=\"F\" \n",
        "      else:\n",
        "         c=rem\n",
        "     \n",
        "      hex=hex+str(c)\n",
        "      a=int(a/16)\n",
        "     return(hex[::-1])\n",
        "\n",
        "\n",
        "print(dec_hex(1000))\n",
        "  "
      ]
    },
    {
      "cell_type": "markdown",
      "metadata": {
        "id": "XWQ8-mqe0UWa"
      },
      "source": [
        "Write a Python Program To Find ASCII value of a character?"
      ]
    },
    {
      "cell_type": "code",
      "execution_count": null,
      "metadata": {
        "colab": {
          "base_uri": "https://localhost:8080/"
        },
        "id": "HeKu8tyK0YAu",
        "outputId": "f5ff3928-325e-41ec-acf4-2bf3ad053ce1"
      },
      "outputs": [
        {
          "name": "stdout",
          "output_type": "stream",
          "text": [
            "65\n"
          ]
        }
      ],
      "source": [
        "def ascii(a):\n",
        "  print(ord(a))\n",
        "ascii('A')"
      ]
    },
    {
      "cell_type": "markdown",
      "metadata": {
        "id": "OfeiUUXs0Ymi"
      },
      "source": [
        "Write a Python Program to Make a Simple Calculator with 4 basic mathematical operations?"
      ]
    },
    {
      "cell_type": "code",
      "execution_count": null,
      "metadata": {
        "colab": {
          "base_uri": "https://localhost:8080/"
        },
        "id": "qTDx_6pe0ckM",
        "outputId": "d7ed3521-99a0-453b-99bb-59d6dd398398"
      },
      "outputs": [
        {
          "name": "stdout",
          "output_type": "stream",
          "text": [
            "Enter the value of A21\n",
            "Enter the value of B56\n",
            "Menu\n",
            "1.Add\n",
            "2.Sub\n",
            "3.Mul\n",
            "4.Div\n",
            "Enter the choice1\n",
            "77\n"
          ]
        }
      ],
      "source": [
        "def add(a,b):\n",
        "  return(a+b)\n",
        "def mul(a,b):\n",
        "  return(a*b)\n",
        "def sub(a,b):\n",
        "  return(a-b)\n",
        "def div(a,b):\n",
        "  return(a/b)\n",
        "def cal():\n",
        "  a=int(input(\"Enter the value of A\"))\n",
        "  b=int(input(\"Enter the value of B\"))\n",
        "  print(\"Menu\")\n",
        "  print(\"1.Add\")\n",
        "  print(\"2.Sub\")\n",
        "  print(\"3.Mul\")\n",
        "  print(\"4.Div\")\n",
        "  choice=int(input(\"Enter the choice\"))\n",
        "  if choice ==1:\n",
        "    print(add(a,b))\n",
        "  elif choice ==2:\n",
        "    print(sub(a,b))\n",
        "  elif choice==3:\n",
        "    print(mul(a,b))\n",
        "  elif choice ==4:\n",
        "    print(div(a,b))\n",
        "  else:\n",
        "    print(\"Wrong Choice\")\n",
        "\n",
        "cal()"
      ]
    }
  ],
  "metadata": {
    "colab": {
      "provenance": []
    },
    "kernelspec": {
      "display_name": "Python 3",
      "name": "python3"
    },
    "language_info": {
      "name": "python"
    }
  },
  "nbformat": 4,
  "nbformat_minor": 0
}