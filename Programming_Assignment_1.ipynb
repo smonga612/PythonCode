{
  "nbformat": 4,
  "nbformat_minor": 0,
  "metadata": {
    "colab": {
      "provenance": []
    },
    "kernelspec": {
      "name": "python3",
      "display_name": "Python 3"
    },
    "language_info": {
      "name": "python"
    }
  },
  "cells": [
    {
      "cell_type": "markdown",
      "source": [
        "Write a Python program to print &quot;Hello Python?"
      ],
      "metadata": {
        "id": "62eWaR3xSMBT"
      }
    },
    {
      "cell_type": "code",
      "execution_count": null,
      "metadata": {
        "colab": {
          "base_uri": "https://localhost:8080/"
        },
        "id": "usfUf9F5SKLJ",
        "outputId": "bf88f0fa-0c7c-4603-e730-3e94fa8b6fb5"
      },
      "outputs": [
        {
          "output_type": "stream",
          "name": "stdout",
          "text": [
            "Hello Python\n"
          ]
        }
      ],
      "source": [
        "print (\"Hello Python\")"
      ]
    },
    {
      "cell_type": "markdown",
      "source": [
        "Write a Python program to do arithmetical operations addition and division.?"
      ],
      "metadata": {
        "id": "5TPxkc0ySKqU"
      }
    },
    {
      "cell_type": "code",
      "source": [
        "a=int(input(\"Enter the number-1 \"))\n",
        "b=int(input(\"Enter the number-2 \"))\n",
        "c=a+b\n",
        "print(\"Addition is \",c)\n",
        "if b!=0 :\n",
        "  c=a/b\n",
        "else:\n",
        "  c=0\n",
        "print(\"Division is \",c)\n"
      ],
      "metadata": {
        "colab": {
          "base_uri": "https://localhost:8080/"
        },
        "id": "_zggoGKJSbFT",
        "outputId": "120951d5-96bf-44a9-f9ec-2ef4e61f43b2"
      },
      "execution_count": null,
      "outputs": [
        {
          "output_type": "stream",
          "name": "stdout",
          "text": [
            "Enter the number-1 21\n",
            "Enter the number-2 32\n",
            "Addition is  53\n",
            "Division is  0.65625\n"
          ]
        }
      ]
    },
    {
      "cell_type": "markdown",
      "source": [
        "Write a Python program to find the area of a triangle?"
      ],
      "metadata": {
        "id": "7VSzDpPHT5Vb"
      }
    },
    {
      "cell_type": "code",
      "source": [
        "base=int(input(\"Enter Base \"))\n",
        "height=int(input(\"Enter  Height \"))\n",
        "area = 0.5*base*height\n",
        "print(\"Area of Triangle \",area)"
      ],
      "metadata": {
        "colab": {
          "base_uri": "https://localhost:8080/"
        },
        "id": "Sr9U2WBFT7YF",
        "outputId": "18d76a56-380b-4823-ad01-65f6c28d01e3"
      },
      "execution_count": null,
      "outputs": [
        {
          "output_type": "stream",
          "name": "stdout",
          "text": [
            "Enter Base 4\n",
            "Enter  Height 3\n",
            "Area of Triangle  6.0\n"
          ]
        }
      ]
    },
    {
      "cell_type": "markdown",
      "source": [
        "Write a Python program to swap two variables?"
      ],
      "metadata": {
        "id": "YB2aL0o-UvIi"
      }
    },
    {
      "cell_type": "code",
      "source": [
        "a=input(\"Enter the value-1 \")\n",
        "b=input(\"Enter the value-2 \")\n",
        "print(\"Before Swapping\")\n",
        "print(\"Value-1= \",a)\n",
        "print(\"Value-2= \",b)\n",
        "c=a\n",
        "a=b\n",
        "b=c\n",
        "print(\"After Swapping\")\n",
        "print(\"Value-1= \",a)\n",
        "print(\"Value-2= \",b)\n",
        "\n"
      ],
      "metadata": {
        "colab": {
          "base_uri": "https://localhost:8080/"
        },
        "id": "Eur7nRG9VBpr",
        "outputId": "6bf94538-6b75-4d5f-bd2f-89a3e0ef571d"
      },
      "execution_count": null,
      "outputs": [
        {
          "output_type": "stream",
          "name": "stdout",
          "text": [
            "Enter the value-1 21\n",
            "Enter the value-2 32\n",
            "Before Swapping\n",
            "Value-1=  21\n",
            "Value-2=  32\n",
            "After Swapping\n",
            "Value-1=  32\n",
            "Value-2=  21\n"
          ]
        }
      ]
    },
    {
      "cell_type": "markdown",
      "source": [
        "Write a Python program to generate a random number?"
      ],
      "metadata": {
        "id": "wNTMan3oWEcG"
      }
    },
    {
      "cell_type": "code",
      "source": [
        "import random\n",
        "print(random.randint(1,100))"
      ],
      "metadata": {
        "colab": {
          "base_uri": "https://localhost:8080/"
        },
        "id": "Zeo2Kn9TVhUW",
        "outputId": "31c14468-9a1c-4bfe-c2a5-35b0d41a7de0"
      },
      "execution_count": null,
      "outputs": [
        {
          "output_type": "stream",
          "name": "stdout",
          "text": [
            "13\n"
          ]
        }
      ]
    }
  ]
}