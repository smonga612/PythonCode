{
  "nbformat": 4,
  "nbformat_minor": 0,
  "metadata": {
    "colab": {
      "provenance": []
    },
    "kernelspec": {
      "name": "python3",
      "display_name": "Python 3"
    },
    "language_info": {
      "name": "python"
    }
  },
  "cells": [
    {
      "cell_type": "markdown",
      "source": [
        "Question1\n",
        "Create a function that takes three integer arguments (a, b, c) and returns the amount of\n",
        "integers which are of equal value.\n",
        "Examples\n",
        "equal(3, 4, 3) ➞ 2\n",
        "equal(1, 1, 1) ➞ 3\n",
        "equal(3, 4, 1) ➞ 0\n",
        "Notes\n",
        "Your function must return 0, 2 or 3."
      ],
      "metadata": {
        "id": "Atic0uC_y7L2"
      }
    },
    {
      "cell_type": "code",
      "execution_count": null,
      "metadata": {
        "colab": {
          "base_uri": "https://localhost:8080/"
        },
        "id": "p2qgT8rIy4R1",
        "outputId": "16c8c7e4-2fa8-42ae-9dda-1e26d3134974"
      },
      "outputs": [
        {
          "output_type": "execute_result",
          "data": {
            "text/plain": [
              "2"
            ]
          },
          "metadata": {},
          "execution_count": 8
        }
      ],
      "source": [
        "def equals(a,b,c):\n",
        "  if a==b and b==c:\n",
        "    return(3)\n",
        "  elif a==b or b==c or a==c :\n",
        "    return(2)\n",
        "  else :\n",
        "    return(0)\n",
        "equals(2,2,1)"
      ]
    },
    {
      "cell_type": "markdown",
      "source": [
        "Question 2 Write a function that converts a dictionary into a list of keys-values tuples.\n",
        "Examples\n",
        "dict_to_list({\n",
        "&quot;D&quot;: 1,\n",
        "&quot;B&quot;: 2,\n",
        "&quot;C&quot;: 3\n",
        "}) ➞ [(&quot;B&quot;, 2), (&quot;C&quot;, 3), (&quot;D&quot;, 1)]\n",
        "dict_to_list({\n",
        "&quot;likes&quot;: 2,\n",
        "&quot;dislikes&quot;: 3,\n",
        "&quot;followers&quot;: 10\n",
        "}) ➞ [(&quot;dislikes&quot;, 3), (&quot;followers&quot;, 10), (&quot;likes&quot;, 2)]\n",
        "Notes\n",
        "Return the elements in the list in alphabetical order."
      ],
      "metadata": {
        "id": "Ik086QLxzIj7"
      }
    },
    {
      "cell_type": "code",
      "source": [
        "def dict_to_list(my_dict):\n",
        "  sort_l=[]\n",
        "  l=list(my_dict.keys())\n",
        "  l.sort()\n",
        "  for i in l:\n",
        "    sort_l.append((i,my_dict[i]))\n",
        "  return(sort_l)\n",
        "\n",
        "print(dict_to_list({\"E\":1,\"D\":2,\"A\":4,\"B\":9,\"z\":8}))\n",
        "print(dict_to_list({ \"likes\": 2, \"dislikes\": 3, \"followers\": 10 })) \n"
      ],
      "metadata": {
        "id": "R-toBaMR0n-3",
        "colab": {
          "base_uri": "https://localhost:8080/"
        },
        "outputId": "be7a49c0-79e4-4134-e498-ff581fd0776b"
      },
      "execution_count": null,
      "outputs": [
        {
          "output_type": "stream",
          "name": "stdout",
          "text": [
            "[('A', 4), ('B', 9), ('D', 2), ('E', 1), ('z', 8)]\n",
            "[('dislikes', 3), ('followers', 10), ('likes', 2)]\n"
          ]
        }
      ]
    },
    {
      "cell_type": "markdown",
      "source": [
        "Question3\n",
        "Write a function that creates a dictionary with each (key, value) pair being the (lower case,\n",
        "upper case) versions of a letter, respectively.\n",
        "Examples\n",
        "mapping([&quot;p&quot;, &quot;s&quot;]) ➞ { &quot;p&quot;: &quot;P&quot;, &quot;s&quot;: &quot;S&quot; }\n",
        "\n",
        "mapping([&quot;a&quot;, &quot;b&quot;, &quot;c&quot;]) ➞ { &quot;a&quot;: &quot;A&quot;, &quot;b&quot;: &quot;B&quot;, &quot;c&quot;: &quot;C&quot; }\n",
        "mapping([&quot;a&quot;, &quot;v&quot;, &quot;y&quot;, &quot;z&quot;]) ➞ { &quot;a&quot;: &quot;A&quot;, &quot;v&quot;: &quot;V&quot;, &quot;y&quot;: &quot;Y&quot;, &quot;z&quot;: &quot;Z&quot; }\n",
        "Notes\n",
        "All of the letters in the input list will always be lowercase."
      ],
      "metadata": {
        "id": "HMKga1AA0oZO"
      }
    },
    {
      "cell_type": "code",
      "source": [
        "def mapping(dlist):\n",
        "  my_dict={}\n",
        "  for data in dlist:\n",
        "    my_dict[data]=data.upper()\n",
        "  return(my_dict)\n",
        "my_dict=mapping([\"ä\",\"b\",\"c\"])\n",
        "print(my_dict)\n",
        "\n"
      ],
      "metadata": {
        "id": "3l4_IMBF0w7U",
        "colab": {
          "base_uri": "https://localhost:8080/"
        },
        "outputId": "0b337fa5-4776-41b3-fc06-ceefe6c9b7bb"
      },
      "execution_count": null,
      "outputs": [
        {
          "output_type": "stream",
          "name": "stdout",
          "text": [
            "{'ä': 'Ä', 'b': 'B', 'c': 'C'}\n"
          ]
        }
      ]
    },
    {
      "cell_type": "markdown",
      "source": [
        "Question4\n",
        "Write a function, that replaces all vowels in a string with a specified vowel.\n",
        "Examples\n",
        "vow_replace(&quot;apples and bananas&quot;, &quot;u&quot;) ➞ &quot;upplus und bununus&quot;\n",
        "vow_replace(&quot;cheese casserole&quot;, &quot;o&quot;) ➞ &quot;chooso cossorolo&quot;\n",
        "vow_replace(&quot;stuffed jalapeno poppers&quot;, &quot;e&quot;) ➞ &quot;steffed jelepene peppers&quot;\n",
        "Notes\n",
        "All words will be lowercase. Y is not considered a vowel.\n",
        "\n"
      ],
      "metadata": {
        "id": "sLAiQvHviykg"
      }
    },
    {
      "cell_type": "code",
      "source": [
        "def vow_replace(data,ch):\n",
        "  i=0\n",
        "  \n",
        "  for v in data:\n",
        "     if v in ('a','e','i','o','u'):\n",
        "      data=data.replace(v,ch,1)\n",
        "  return(data)   \n",
        "\n",
        "print(vow_replace(\"stuffed jalapeno poppers\", \"e\"))"
      ],
      "metadata": {
        "id": "-AliRf9Gi6Zp",
        "colab": {
          "base_uri": "https://localhost:8080/"
        },
        "outputId": "c3dfabe9-d208-4068-f09b-b862567ece57"
      },
      "execution_count": 30,
      "outputs": [
        {
          "output_type": "stream",
          "name": "stdout",
          "text": [
            "steffed jelepene peppers\n"
          ]
        }
      ]
    },
    {
      "cell_type": "markdown",
      "source": [
        "\n",
        "Question 5 Create a function that takes a string as input and capitalizes a letter if its ASCII code is even\n",
        "and returns its lower case version if its ASCII code is odd.\n",
        "Examples\n",
        "ascii_capitalize(&quot;to be or not to be!&quot;) ➞ &quot;To Be oR NoT To Be!&quot;\n",
        "ascii_capitalize(&quot;THE LITTLE MERMAID&quot;) ➞ &quot;THe LiTTLe meRmaiD&quot;\n",
        "ascii_capitalize(&quot;Oh what a beautiful morning.&quot;) ➞ &quot;oH wHaT a BeauTiFuL\n",
        "moRNiNg.&quot;"
      ],
      "metadata": {
        "id": "Wm8qjoRpi7BF"
      }
    },
    {
      "cell_type": "code",
      "source": [
        "def ascii_capitalize(data):\n",
        "  j=0;\n",
        "  msg=\"\"\n",
        "  for i in data :\n",
        "     if i.isspace() :\n",
        "       msg=msg+i\n",
        "     else:\n",
        "       if ord(i)%2== 0 :\n",
        "        msg=msg+data[j].upper()\n",
        "       else :\n",
        "         msg=msg+data[j].lower()\n",
        "     j=j+1\n",
        "  return(msg)\n",
        "data=ascii_capitalize(\"Oh what a beautiful morning.\")\n",
        "print(data)"
      ],
      "metadata": {
        "colab": {
          "base_uri": "https://localhost:8080/"
        },
        "id": "V8ld7yJfjHE_",
        "outputId": "26db92f6-c610-45aa-cd75-6e4e2987811f"
      },
      "execution_count": null,
      "outputs": [
        {
          "output_type": "stream",
          "name": "stdout",
          "text": [
            "oH wHaT a BeauTiFuL moRNiNg.\n"
          ]
        }
      ]
    }
  ]
}