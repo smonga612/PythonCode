{
  "nbformat": 4,
  "nbformat_minor": 0,
  "metadata": {
    "colab": {
      "provenance": []
    },
    "kernelspec": {
      "name": "python3",
      "display_name": "Python 3"
    },
    "language_info": {
      "name": "python"
    }
  },
  "cells": [
    {
      "cell_type": "code",
      "execution_count": null,
      "metadata": {
        "id": "bAbl3HvOYYtb"
      },
      "outputs": [],
      "source": [
        "#Write a Python Program to find sum of array?"
      ]
    },
    {
      "cell_type": "code",
      "source": [
        "\n",
        "arr = list(map(int, input(\"Enter the array elements separated by space: \").split()))\n",
        "\n",
        "arr_sum = sum(arr)\n",
        "\n",
        "print(f\"The sum of the array is {arr_sum}\")\n"
      ],
      "metadata": {
        "colab": {
          "base_uri": "https://localhost:8080/"
        },
        "id": "cOhD3q-dYdCp",
        "outputId": "a190b052-a69d-43f8-e195-4c754b4c1e43"
      },
      "execution_count": 9,
      "outputs": [
        {
          "output_type": "stream",
          "name": "stdout",
          "text": [
            "Enter the array elements separated by space: 2 3 4 5 6 6\n",
            "The sum of the array is 26\n"
          ]
        }
      ]
    },
    {
      "cell_type": "code",
      "source": [
        "#Write a Python Program to find largest element in an array?"
      ],
      "metadata": {
        "id": "kkjDPTXaYdfv"
      },
      "execution_count": null,
      "outputs": []
    },
    {
      "cell_type": "code",
      "source": [
        "\n",
        "arr = list(map(int, input(\"Enter the array elements separated by space: \").split()))\n",
        "\n",
        "\n",
        "largest = arr[0]\n",
        "for i in range(1, len(arr)):\n",
        "    if arr[i] > largest:\n",
        "        largest = arr[i]\n",
        "\n",
        "\n",
        "print(f\"The largest element in the array is {largest}\")\n"
      ],
      "metadata": {
        "colab": {
          "base_uri": "https://localhost:8080/"
        },
        "id": "huhi9MVuYeBv",
        "outputId": "6044d768-0d07-481a-b8e8-3d5e628ea8eb"
      },
      "execution_count": 10,
      "outputs": [
        {
          "output_type": "stream",
          "name": "stdout",
          "text": [
            "Enter the array elements separated by space: 32 1 43 6 45 76 3 2\n",
            "The largest element in the array is 76\n"
          ]
        }
      ]
    },
    {
      "cell_type": "code",
      "source": [
        "#Write a Python Program for array rotation?"
      ],
      "metadata": {
        "id": "3wcM25JzYeh_"
      },
      "execution_count": null,
      "outputs": []
    },
    {
      "cell_type": "code",
      "source": [
        "arr = list(map(int, input(\"Enter the array elements separated by space: \").split()))\n",
        "\n",
        "rotations = int(input(\"Enter the number of positions to rotate: \"))\n",
        "\n",
        "rotated_arr = arr[rotations:] + arr[:rotations]\n",
        "\n",
        "print(f\"The rotated array is {rotated_arr}\")\n"
      ],
      "metadata": {
        "colab": {
          "base_uri": "https://localhost:8080/"
        },
        "id": "324ehe6-YfDi",
        "outputId": "61e23d52-a20c-4f78-92fb-a469cf53a52c"
      },
      "execution_count": 11,
      "outputs": [
        {
          "output_type": "stream",
          "name": "stdout",
          "text": [
            "Enter the array elements separated by space: 12 32 43 54 65 34 76 8\n",
            "Enter the number of positions to rotate: 3\n",
            "The rotated array is [54, 65, 34, 76, 8, 12, 32, 43]\n"
          ]
        }
      ]
    },
    {
      "cell_type": "code",
      "source": [
        "#Write a Python Program to Split the array and add the first part to the end?"
      ],
      "metadata": {
        "id": "PNNFgdf9YfdW"
      },
      "execution_count": null,
      "outputs": []
    },
    {
      "cell_type": "code",
      "source": [
        "\n",
        "arr = list(map(int, input(\"Enter the array elements separated by space: \").split()))\n",
        "\n",
        "\n",
        "split_index = int(input(\"Enter the index to split the array: \"))\n",
        "\n",
        "\n",
        "split_arr = arr[split_index:] + arr[:split_index]\n",
        "\n",
        "\n",
        "print(f\"The resulting array is {split_arr}\")\n"
      ],
      "metadata": {
        "colab": {
          "base_uri": "https://localhost:8080/"
        },
        "id": "weOF37JtYqju",
        "outputId": "bc1e2693-e858-4777-e0e9-5a66e2afeafb"
      },
      "execution_count": 12,
      "outputs": [
        {
          "output_type": "stream",
          "name": "stdout",
          "text": [
            "Enter the array elements separated by space: 21 34 54 6 7 8 23 45 65 \n",
            "Enter the index to split the array: 5\n",
            "The resulting array is [8, 23, 45, 65, 21, 34, 54, 6, 7]\n"
          ]
        }
      ]
    },
    {
      "cell_type": "code",
      "source": [
        "#Write a Python Program to check if given array is Monotonic?"
      ],
      "metadata": {
        "id": "Rg_R0D7rYq_d"
      },
      "execution_count": null,
      "outputs": []
    },
    {
      "cell_type": "code",
      "source": [
        "\n",
        "arr = list(map(int, input(\"Enter the array elements separated by space: \").split()))\n",
        "\n",
        "\n",
        "is_monotonic_increasing = True\n",
        "is_monotonic_decreasing = True\n",
        "\n",
        "\n",
        "for i in range(1, len(arr)):\n",
        "    if arr[i] < arr[i-1]:\n",
        "        is_monotonic_increasing = False\n",
        "        break\n",
        "\n",
        "\n",
        "for i in range(1, len(arr)):\n",
        "    if arr[i] > arr[i-1]:\n",
        "        is_monotonic_decreasing = False\n",
        "        break\n",
        "\n",
        "\n",
        "if is_monotonic_increasing or is_monotonic_decreasing:\n",
        "    print(\"The array is monotonic\")\n",
        "else:\n",
        "    print(\"The array is not monotonic\")\n"
      ],
      "metadata": {
        "colab": {
          "base_uri": "https://localhost:8080/"
        },
        "id": "XrqrHQIsYyIX",
        "outputId": "f0f8b206-c56b-4277-c202-5cfc9409b2ef"
      },
      "execution_count": 15,
      "outputs": [
        {
          "output_type": "stream",
          "name": "stdout",
          "text": [
            "Enter the array elements separated by space: 21 34 54 3 4 65\n",
            "The array is not monotonic\n"
          ]
        }
      ]
    }
  ]
}